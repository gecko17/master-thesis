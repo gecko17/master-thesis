{
 "cells": [
  {
   "cell_type": "code",
   "execution_count": 1,
   "source": [
    "import torch\n",
    "import numpy as np"
   ],
   "outputs": [],
   "metadata": {}
  },
  {
   "cell_type": "code",
   "execution_count": 2,
   "source": [
    "l_embedding = torch.nn.Embedding(30000, 768, padding_idx=0)"
   ],
   "outputs": [],
   "metadata": {}
  },
  {
   "cell_type": "code",
   "execution_count": 3,
   "source": [
    "token_ids = np.array([1,5,2400,157])\n",
    "inp = torch.tensor(token_ids, dtype=torch.int64).reshape((1,4))"
   ],
   "outputs": [],
   "metadata": {}
  },
  {
   "cell_type": "code",
   "execution_count": 4,
   "source": [
    "embeds = l_embedding(inp)"
   ],
   "outputs": [],
   "metadata": {}
  },
  {
   "cell_type": "code",
   "execution_count": 5,
   "source": [
    "l_output = torch.nn.Linear(768,30000)"
   ],
   "outputs": [],
   "metadata": {}
  },
  {
   "cell_type": "code",
   "execution_count": 6,
   "source": [
    "o = l_output(embeds)"
   ],
   "outputs": [],
   "metadata": {}
  },
  {
   "cell_type": "code",
   "execution_count": 8,
   "source": [
    "o"
   ],
   "outputs": [
    {
     "output_type": "execute_result",
     "data": {
      "text/plain": [
       "tensor([[[ 0.2275, -0.1522, -0.1885,  ..., -0.0502, -0.2502,  0.2402],\n",
       "         [ 1.1397, -0.2896, -0.5244,  ..., -0.0062, -0.2108,  1.7002],\n",
       "         [ 1.5575,  1.4019,  0.1472,  ..., -0.1149, -0.1361,  0.1554],\n",
       "         [-0.4118, -0.0651,  0.2324,  ...,  0.7565, -0.0433,  0.1663]]],\n",
       "       grad_fn=<AddBackward0>)"
      ]
     },
     "metadata": {},
     "execution_count": 8
    }
   ],
   "metadata": {}
  },
  {
   "cell_type": "code",
   "execution_count": null,
   "source": [],
   "outputs": [],
   "metadata": {}
  }
 ],
 "metadata": {
  "orig_nbformat": 4,
  "language_info": {
   "name": "python",
   "version": "3.7.11",
   "mimetype": "text/x-python",
   "codemirror_mode": {
    "name": "ipython",
    "version": 3
   },
   "pygments_lexer": "ipython3",
   "nbconvert_exporter": "python",
   "file_extension": ".py"
  },
  "kernelspec": {
   "name": "python3",
   "display_name": "Python 3.7.11 64-bit ('master-thesis-colab': conda)"
  },
  "interpreter": {
   "hash": "7a7682ce583e0ee06ee5512b615ced18c46d05123774f7e0b0227cd9872e17b5"
  }
 },
 "nbformat": 4,
 "nbformat_minor": 2
}