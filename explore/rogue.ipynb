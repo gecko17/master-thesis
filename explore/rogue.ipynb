{
 "cells": [
  {
   "cell_type": "code",
   "execution_count": 2,
   "source": [
    "from transformers import BertGenerationEncoder, BertGenerationDecoder, EncoderDecoderModel, BertTokenizer\n",
    "from datasets import Dataset\n",
    "import pandas as pd\n",
    "import numpy as np\n",
    "from rouge import Rouge"
   ],
   "outputs": [],
   "metadata": {}
  },
  {
   "cell_type": "code",
   "execution_count": 3,
   "source": [
    "# loading the headline reconstruction model\n",
    "model = EncoderDecoderModel.from_pretrained('../saved-models/bert2bert/headline-reconstruction')"
   ],
   "outputs": [],
   "metadata": {}
  },
  {
   "cell_type": "code",
   "execution_count": 4,
   "source": [
    "data = pd.read_csv('../data/export-articles-de-2021-07-15T16:18:00.716875+00:00')\n",
    "data = data[['HEADLINE', 'CONTENT']]"
   ],
   "outputs": [],
   "metadata": {}
  },
  {
   "cell_type": "code",
   "execution_count": 5,
   "source": [
    "tokenizer = BertTokenizer.from_pretrained(\"bert-base-german-cased\")"
   ],
   "outputs": [],
   "metadata": {}
  },
  {
   "cell_type": "code",
   "execution_count": 14,
   "source": [
    "# use model to reconstruct the headlines\n",
    "original = data['HEADLINE'].head(10).tolist()\n",
    "\n",
    "original_tokens = tokenizer(original, padding='max_length', truncation=True, max_length=256, add_special_tokens=True, return_tensors=\"pt\")\n",
    "\n",
    "reconstructed_tokens = model.generate(original_tokens.input_ids, attention_mask=original_tokens.attention_mask, max_length=256)\n",
    "reconstructed = tokenizer.batch_decode(reconstructed_tokens, skip_special_tokens=True)"
   ],
   "outputs": [],
   "metadata": {}
  },
  {
   "cell_type": "code",
   "execution_count": 15,
   "source": [
    "# evaluate the rouge scores of headline reconstructions\n",
    "rouge = Rouge()\n",
    "rouge.get_scores(original, reconstructed, avg=True)"
   ],
   "outputs": [
    {
     "output_type": "execute_result",
     "data": {
      "text/plain": [
       "{'rouge-1': {'r': 0.48312168902648783,\n",
       "  'p': 0.8517016317016317,\n",
       "  'f': 0.6133223463745406},\n",
       " 'rouge-2': {'r': 0.21344056733701916,\n",
       "  'p': 0.7941666666666667,\n",
       "  'f': 0.33519357700307983},\n",
       " 'rouge-l': {'r': 0.48312168902648783,\n",
       "  'p': 0.8517016317016317,\n",
       "  'f': 0.6133223463745406}}"
      ]
     },
     "metadata": {},
     "execution_count": 15
    }
   ],
   "metadata": {}
  },
  {
   "cell_type": "code",
   "execution_count": 11,
   "source": [
    "# evaluate the same model for application on content reconstruction\n",
    "# model was trained on headline reconstruction\n",
    "# using content of the articles, which is cut after 256 tokens\n",
    "original = data['CONTENT'].head(10).tolist()\n",
    "\n",
    "original_tokens = tokenizer(original, padding='max_length', truncation=True, max_length=256, add_special_tokens=True, return_tensors=\"pt\")\n",
    "\n",
    "reconstructed_tokens = model.generate(original_tokens.input_ids, attention_mask=original_tokens.attention_mask, max_length=256)\n",
    "reconstructed = tokenizer.batch_decode(reconstructed_tokens, skip_special_tokens=True)\n",
    "\n",
    "rouge.get_scores(original, reconstructed, avg=True)"
   ],
   "outputs": [
    {
     "output_type": "error",
     "ename": "NameError",
     "evalue": "name 'rouge' is not defined",
     "traceback": [
      "\u001b[0;31m---------------------------------------------------------------------------\u001b[0m",
      "\u001b[0;31mNameError\u001b[0m                                 Traceback (most recent call last)",
      "\u001b[0;32m<ipython-input-11-4151fd804a8d>\u001b[0m in \u001b[0;36m<module>\u001b[0;34m\u001b[0m\n\u001b[1;32m      9\u001b[0m \u001b[0mreconstructed\u001b[0m \u001b[0;34m=\u001b[0m \u001b[0mtokenizer\u001b[0m\u001b[0;34m.\u001b[0m\u001b[0mbatch_decode\u001b[0m\u001b[0;34m(\u001b[0m\u001b[0mreconstructed_tokens\u001b[0m\u001b[0;34m,\u001b[0m \u001b[0mskip_special_tokens\u001b[0m\u001b[0;34m=\u001b[0m\u001b[0;32mTrue\u001b[0m\u001b[0;34m)\u001b[0m\u001b[0;34m\u001b[0m\u001b[0;34m\u001b[0m\u001b[0m\n\u001b[1;32m     10\u001b[0m \u001b[0;34m\u001b[0m\u001b[0m\n\u001b[0;32m---> 11\u001b[0;31m \u001b[0mrouge\u001b[0m\u001b[0;34m.\u001b[0m\u001b[0mget_scores\u001b[0m\u001b[0;34m(\u001b[0m\u001b[0moriginal\u001b[0m\u001b[0;34m,\u001b[0m \u001b[0mreconstructed\u001b[0m\u001b[0;34m,\u001b[0m \u001b[0mavg\u001b[0m\u001b[0;34m=\u001b[0m\u001b[0;32mTrue\u001b[0m\u001b[0;34m)\u001b[0m\u001b[0;34m\u001b[0m\u001b[0;34m\u001b[0m\u001b[0m\n\u001b[0m",
      "\u001b[0;31mNameError\u001b[0m: name 'rouge' is not defined"
     ]
    }
   ],
   "metadata": {}
  },
  {
   "cell_type": "code",
   "execution_count": 16,
   "source": [
    "# loading the content reconstruction model\n",
    "model = EncoderDecoderModel.from_pretrained('../saved-models/bert2bert/content-reconstruction/v2')\n",
    "original = data['CONTENT'].head(10).tolist()\n",
    "\n",
    "original_tokens = tokenizer(original, padding='max_length', truncation=True, max_length=512, add_special_tokens=True, return_tensors=\"pt\")\n",
    "\n",
    "reconstructed_tokens = model.generate(original_tokens.input_ids, attention_mask=original_tokens.attention_mask)\n",
    "reconstructed = tokenizer.batch_decode(reconstructed_tokens, skip_special_tokens=True)\n",
    "\n",
    "rouge.get_scores(original, reconstructed, avg=True)"
   ],
   "outputs": [
    {
     "output_type": "execute_result",
     "data": {
      "text/plain": [
       "{'rouge-1': {'r': 0.8656564231223868,\n",
       "  'p': 0.8808085940088899,\n",
       "  'f': 0.8683466386017885},\n",
       " 'rouge-2': {'r': 0.7098209878434618,\n",
       "  'p': 0.8402234341968073,\n",
       "  'f': 0.7524495306424844},\n",
       " 'rouge-l': {'r': 0.8656564231223868,\n",
       "  'p': 0.8808085940088899,\n",
       "  'f': 0.8683466386017885}}"
      ]
     },
     "metadata": {},
     "execution_count": 16
    }
   ],
   "metadata": {}
  },
  {
   "cell_type": "code",
   "execution_count": 20,
   "source": [
    "reconstructed_tokens.size()"
   ],
   "outputs": [
    {
     "output_type": "execute_result",
     "data": {
      "text/plain": [
       "torch.Size([10, 512])"
      ]
     },
     "metadata": {},
     "execution_count": 20
    }
   ],
   "metadata": {}
  },
  {
   "cell_type": "code",
   "execution_count": null,
   "source": [],
   "outputs": [],
   "metadata": {}
  }
 ],
 "metadata": {
  "orig_nbformat": 4,
  "language_info": {
   "name": "python",
   "version": "3.8.10",
   "mimetype": "text/x-python",
   "codemirror_mode": {
    "name": "ipython",
    "version": 3
   },
   "pygments_lexer": "ipython3",
   "nbconvert_exporter": "python",
   "file_extension": ".py"
  },
  "kernelspec": {
   "name": "python3",
   "display_name": "Python 3.8.10 64-bit ('master-thesis-local': conda)"
  },
  "interpreter": {
   "hash": "1706a1f9fafbe48da51d8a59bfe5d85cc51c707f0120bcd96cec0e9735d555a5"
  }
 },
 "nbformat": 4,
 "nbformat_minor": 2
}