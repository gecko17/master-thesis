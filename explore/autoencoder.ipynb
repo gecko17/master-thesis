{
 "cells": [
  {
   "cell_type": "code",
   "execution_count": 2,
   "source": [
    "from tensorflow.keras.layers import LSTM, Dense, RepeatVector, Embedding, TimeDistributed, Input \n",
    "from tensorflow.keras.models import Sequential\n",
    "from official.nlp import optimization\n",
    "import tensorflow as tf\n",
    "import numpy as np\n",
    "import pandas as pd\n",
    "\n",
    "import tensorflow_hub as tf_hub\n",
    "import tensorflow_text as tf_text\n",
    "\n",
    "bert_preprocess_layer = tf_hub.KerasLayer('https://tfhub.dev/tensorflow/bert_multi_cased_preprocess/3', name='Bert_Preprocessor')\n",
    "bert_layer = tf_hub.KerasLayer('https://tfhub.dev/tensorflow/bert_multi_cased_L-12_H-768_A-12/4', name='Bert_Encoder')"
   ],
   "outputs": [],
   "metadata": {}
  },
  {
   "cell_type": "markdown",
   "source": [
    "## Simple Autoencoder with numbers "
   ],
   "metadata": {}
  },
  {
   "cell_type": "code",
   "execution_count": null,
   "source": [
    "model = Sequential()\n",
    "#model.add(Embedding(input_dim=128, output_dim=128))\n",
    "model.add(LSTM(units=64, activation='relu', input_shape=(4,3), return_sequences=True))\n",
    "model.add(LSTM(units=32, activation='relu', return_sequences=False))\n",
    "model.add(RepeatVector(4))\n",
    "model.add(LSTM(units=32, activation='relu', return_sequences=True))\n",
    "model.add(LSTM(units=64, activation='relu', return_sequences=True))\n",
    "model.add(TimeDistributed(Dense(3)))\n",
    "\n",
    "model.compile(optimizer='adam', loss='mse')\n",
    "\n",
    "# 3 features, 4 timesteps, 4 samples\n",
    "X = np.array([[[1,2,3], [2,3,4], [3,4,5], [4,5,6]], [[2,3,4], [3,4,5], [4,5,6], [5,6,7]], [[3,4,5], [4,5,6], [5,6,7], [6,7,8]], [[4,5,6], [5,6,7], [6,7,8], [7,8,9]]])\n",
    "X = X.astype(np.float64)\n",
    "X = X.reshape(X.shape[0], 4, 3)\n",
    "\n",
    "model.fit(X, X, batch_size=5, epochs=300, verbose=0)"
   ],
   "outputs": [],
   "metadata": {}
  },
  {
   "cell_type": "code",
   "execution_count": null,
   "source": [
    "print(model.predict(X, verbose=0))"
   ],
   "outputs": [],
   "metadata": {}
  },
  {
   "cell_type": "code",
   "execution_count": null,
   "source": [
    "X_pred = np.array([[[8,9,10], [10,11,12], [11,12,13], [12,13,14]]])\n",
    "X_pred = X_pred.astype(np.float64)\n",
    "\n",
    "print(model.predict(X_pred))"
   ],
   "outputs": [],
   "metadata": {}
  },
  {
   "cell_type": "markdown",
   "source": [
    "## Text Reconstruction\n",
    "### Experiment 1: Separate Bert Model and Autoencoder\n",
    "The input to the autoencoder is the bert embedding and the output will also be the bert embedding\n",
    "\n",
    "Issue: How to generate text from the BERT embedding?"
   ],
   "metadata": {}
  },
  {
   "cell_type": "code",
   "execution_count": 3,
   "source": [
    "#X = ['Mein', 'Name', 'ist', 'Marco', 'und', 'ich', 'spiele', 'sehr', 'gerne', 'Fussball']\n",
    "#text_length = 10\n",
    "\n",
    "input_layer = Input(shape=(), dtype=tf.string, name='Text_Input')\n",
    "text_preprocessed = bert_preprocess_layer(input_layer)\n",
    "outputs = bert_layer(text_preprocessed)\n",
    "embeddings = outputs['sequence_output']\n",
    "\n",
    "bert_model = tf.keras.Model(input_layer, embeddings)\n",
    "\n",
    "encoder_input = Input(shape=(128,768), name='Encoder_Input')\n",
    "lstm1 = LSTM(units=64, activation='relu', return_sequences=True, name='LSTM_Encoder_1')\n",
    "lstm2 = LSTM(units=32, activation='relu', return_sequences=False, name='LSTM_Encoder_2')\n",
    "encodings = lstm2(lstm1(encoder_input))\n",
    "\n",
    "repeat = RepeatVector(128, name='Repeat_Vector')\n",
    "\n",
    "lstm3 = LSTM(units=32, activation='relu', return_sequences=True, name='LSTM_Decoder_1')\n",
    "lstm4 = LSTM(units=64, activation='relu', return_sequences=True, name='LSTM_Decoder_2')\n",
    "\n",
    "decoded = lstm4(lstm3(repeat(encodings)))\n",
    "\n",
    "tds = TimeDistributed(Dense(768), name='Time_Distributed')\n",
    "decoder_output = tds(decoded)\n",
    "\n",
    "text_autoencoder_model = tf.keras.Model(encoder_input, decoder_output)"
   ],
   "outputs": [],
   "metadata": {}
  },
  {
   "cell_type": "code",
   "execution_count": 4,
   "source": [
    "tf.keras.utils.plot_model(text_autoencoder_model)"
   ],
   "outputs": [
    {
     "output_type": "execute_result",
     "data": {
      "text/plain": [
       "<IPython.core.display.Image object>"
      ],
      "image/png": "[encoded data removed]"
     },
     "metadata": {},
     "execution_count": 4
    }
   ],
   "metadata": {}
  },
  {
   "cell_type": "code",
   "execution_count": null,
   "source": [
    "text_autoencoder_model.summary()"
   ],
   "outputs": [],
   "metadata": {}
  },
  {
   "cell_type": "code",
   "execution_count": null,
   "source": [
    "sample_text = ['Mein Name ist Marco und ich spiele sehr gerne Fussball']\n",
    "bert_raw_result = text_autoencoder_model(tf.constant(sample_text))"
   ],
   "outputs": [],
   "metadata": {}
  },
  {
   "cell_type": "code",
   "execution_count": null,
   "source": [
    "bert_raw_result"
   ],
   "outputs": [],
   "metadata": {}
  },
  {
   "cell_type": "code",
   "execution_count": 18,
   "source": [
    "data = pd.read_csv('../data/export-articles-de-2021-07-15T16:18:00.716875+00:00')\n",
    "X = data['HEADLINE'].head(5000).to_numpy()"
   ],
   "outputs": [],
   "metadata": {}
  },
  {
   "cell_type": "code",
   "execution_count": 19,
   "source": [
    "loss = tf.keras.losses.BinaryCrossentropy(from_logits=True)\n",
    "metrics = tf.metrics.BinaryAccuracy()\n",
    "\n",
    "epochs = 5\n",
    "steps_per_epoch = X.size\n",
    "num_train_steps = steps_per_epoch * epochs\n",
    "num_warmup_steps = int(0.1*num_train_steps)\n",
    "\n",
    "init_lr = 3e-5\n",
    "optimizer = optimization.create_optimizer(init_lr=init_lr,\n",
    "                                          num_train_steps=num_train_steps,\n",
    "                                          num_warmup_steps=num_warmup_steps,\n",
    "                                          optimizer_type='adamw')"
   ],
   "outputs": [],
   "metadata": {}
  },
  {
   "cell_type": "code",
   "execution_count": 20,
   "source": [
    "text_autoencoder_model.compile(optimizer=optimizer,\n",
    "                         loss=loss,\n",
    "                         metrics=metrics)"
   ],
   "outputs": [],
   "metadata": {}
  },
  {
   "cell_type": "code",
   "execution_count": 21,
   "source": [
    "X_bert = bert_model.predict(X)\n",
    "history = text_autoencoder_model.fit(x=X_bert, y=X_bert, epochs=epochs)"
   ],
   "outputs": [
    {
     "output_type": "stream",
     "name": "stdout",
     "text": [
      "Epoch 1/5\n",
      "157/157 [==============================] - 33s 186ms/step - loss: 10.6694 - binary_accuracy: 1.2207e-08\n",
      "Epoch 2/5\n",
      "157/157 [==============================] - 30s 192ms/step - loss: 40.1136 - binary_accuracy: 1.2207e-08\n",
      "Epoch 3/5\n",
      "157/157 [==============================] - 31s 196ms/step - loss: 1.0601 - binary_accuracy: 1.2207e-08\n",
      "Epoch 4/5\n",
      "157/157 [==============================] - 32s 201ms/step - loss: 2.4359 - binary_accuracy: 1.2207e-08\n",
      "Epoch 5/5\n",
      "157/157 [==============================] - 31s 200ms/step - loss: 28.4784 - binary_accuracy: 1.2207e-08\n"
     ]
    }
   ],
   "metadata": {}
  },
  {
   "cell_type": "code",
   "execution_count": null,
   "source": [
    "history.history"
   ],
   "outputs": [],
   "metadata": {}
  },
  {
   "cell_type": "markdown",
   "source": [
    "#### Bert Embedding to Text"
   ],
   "metadata": {}
  },
  {
   "cell_type": "code",
   "execution_count": 9,
   "source": [
    "embedding_input = Input(shape=(128, 768), name='Text_Input')\n",
    "flatten = tf.keras.layers.Flatten()\n",
    "dense = Dense(1)\n",
    "output = flatten(dense(embedding_input))\n",
    "\n",
    "embedding_to_id_model = tf.keras.Model(embedding_input, output)\n",
    "\n",
    "embedding_to_id_model.summary()"
   ],
   "outputs": [
    {
     "output_type": "stream",
     "name": "stdout",
     "text": [
      "Model: \"model_2\"\n",
      "_________________________________________________________________\n",
      "Layer (type)                 Output Shape              Param #   \n",
      "=================================================================\n",
      "Text_Input (InputLayer)      [(None, 128, 768)]        0         \n",
      "_________________________________________________________________\n",
      "dense_1 (Dense)              (None, 128, 1)            769       \n",
      "_________________________________________________________________\n",
      "flatten (Flatten)            (None, 128)               0         \n",
      "=================================================================\n",
      "Total params: 769\n",
      "Trainable params: 769\n",
      "Non-trainable params: 0\n",
      "_________________________________________________________________\n"
     ]
    }
   ],
   "metadata": {}
  },
  {
   "cell_type": "code",
   "execution_count": 24,
   "source": [
    "#X = bert_model(X)\n",
    "X_embedding = text_autoencoder_model.predict(X_bert)"
   ],
   "outputs": [],
   "metadata": {}
  },
  {
   "cell_type": "code",
   "execution_count": 25,
   "source": [
    "loss = tf.keras.losses.BinaryCrossentropy(from_logits=True)\n",
    "metrics = tf.metrics.BinaryAccuracy()\n",
    "\n",
    "epochs = 5\n",
    "steps_per_epoch = X_embedding.size\n",
    "num_train_steps = steps_per_epoch * epochs\n",
    "num_warmup_steps = int(0.1*num_train_steps)\n",
    "\n",
    "init_lr = 3e-5\n",
    "optimizer = optimization.create_optimizer(init_lr=init_lr,\n",
    "                                          num_train_steps=num_train_steps,\n",
    "                                          num_warmup_steps=num_warmup_steps,\n",
    "                                          optimizer_type='adamw')\n",
    "\n",
    "embedding_to_id_model.compile(optimizer=optimizer,\n",
    "                         loss=loss,\n",
    "                         metrics=metrics)                                      "
   ],
   "outputs": [],
   "metadata": {}
  },
  {
   "cell_type": "code",
   "execution_count": 26,
   "source": [
    "#X2 = data['HEADLINE'].head(200).to_numpy()\n",
    "text_preprocessed2 = bert_preprocess_layer(X)\n",
    "history = embedding_to_id_model.fit(x=X_embedding, y=text_preprocessed2['input_word_ids'], epochs=epochs)"
   ],
   "outputs": [
    {
     "output_type": "stream",
     "name": "stdout",
     "text": [
      "Epoch 1/5\n",
      "157/157 [==============================] - 1s 5ms/step - loss: -222.3476 - binary_accuracy: 0.7243\n",
      "Epoch 2/5\n",
      "157/157 [==============================] - 1s 5ms/step - loss: -222.3477 - binary_accuracy: 0.7243\n",
      "Epoch 3/5\n",
      "157/157 [==============================] - 1s 5ms/step - loss: -222.3477 - binary_accuracy: 0.7243\n",
      "Epoch 4/5\n",
      "157/157 [==============================] - 1s 5ms/step - loss: -222.3479 - binary_accuracy: 0.7243\n",
      "Epoch 5/5\n",
      "157/157 [==============================] - 1s 5ms/step - loss: -222.3479 - binary_accuracy: 0.7243\n"
     ]
    }
   ],
   "metadata": {}
  },
  {
   "cell_type": "code",
   "execution_count": 27,
   "source": [
    "predicted_word_ids = embedding_to_id_model.predict(X_embedding)"
   ],
   "outputs": [],
   "metadata": {}
  },
  {
   "cell_type": "code",
   "execution_count": 29,
   "source": [
    "predicted_word_ids[0]"
   ],
   "outputs": [
    {
     "output_type": "execute_result",
     "data": {
      "text/plain": [
       "array([-0.00093012,  0.00316577,  0.00869279,  0.0151987 ,  0.02233922,\n",
       "        0.02985169,  0.03749871,  0.04507828,  0.05242255,  0.05940898,\n",
       "        0.06595587,  0.07201568,  0.07759669,  0.08269048,  0.08729706,\n",
       "        0.09141051,  0.09504964,  0.0982489 ,  0.10104781,  0.10348716,\n",
       "        0.10560644,  0.10744295,  0.10903103,  0.11040135,  0.11158183,\n",
       "        0.11259688,  0.11346814,  0.11421464,  0.11485314,  0.11539803,\n",
       "        0.11586217,  0.11625608,  0.11658903,  0.11686952,  0.11710551,\n",
       "        0.11730341,  0.11746892,  0.11760685,  0.11772145,  0.11781622,\n",
       "        0.11789424,  0.11795809,  0.11801004,  0.1180521 ,  0.11808579,\n",
       "        0.11811254,  0.11813355,  0.11814982,  0.11816222,  0.11817154,\n",
       "        0.11817822,  0.11818285,  0.11818589,  0.11818757,  0.11818838,\n",
       "        0.1181884 ,  0.11818784,  0.1181869 ,  0.11818564,  0.11818425,\n",
       "        0.11818277,  0.11818124,  0.11817976,  0.11817826,  0.11817691,\n",
       "        0.11817554,  0.11817434,  0.1181733 ,  0.11817221,  0.1181713 ,\n",
       "        0.11817057,  0.11816984,  0.11816922,  0.11816868,  0.1181683 ,\n",
       "        0.11816785,  0.11816757,  0.11816734,  0.11816707,  0.11816686,\n",
       "        0.11816673,  0.11816666,  0.11816657,  0.11816657,  0.11816657,\n",
       "        0.11816652,  0.11816655,  0.11816651,  0.11816662,  0.11816662,\n",
       "        0.11816664,  0.11816668,  0.11816669,  0.11816677,  0.1181668 ,\n",
       "        0.11816684,  0.11816691,  0.11816693,  0.11816695,  0.118167  ,\n",
       "        0.11816704,  0.11816703,  0.1181671 ,  0.11816714,  0.11816715,\n",
       "        0.11816718,  0.11816717,  0.1181672 ,  0.11816721,  0.11816727,\n",
       "        0.11816727,  0.11816729,  0.11816729,  0.11816732,  0.11816734,\n",
       "        0.11816737,  0.11816738,  0.11816738,  0.11816736,  0.11816739,\n",
       "        0.11816739,  0.11816738,  0.1181674 ,  0.11816739,  0.11816738,\n",
       "        0.11816735,  0.11816736,  0.11816735], dtype=float32)"
      ]
     },
     "metadata": {},
     "execution_count": 29
    }
   ],
   "metadata": {}
  },
  {
   "cell_type": "code",
   "execution_count": 23,
   "source": [
    "num_train_steps"
   ],
   "outputs": [
    {
     "output_type": "execute_result",
     "data": {
      "text/plain": [
       "25000"
      ]
     },
     "metadata": {},
     "execution_count": 23
    }
   ],
   "metadata": {}
  },
  {
   "cell_type": "code",
   "execution_count": 17,
   "source": [
    "text_preprocessed2['input_word_ids'][0]"
   ],
   "outputs": [
    {
     "output_type": "execute_result",
     "data": {
      "text/plain": [
       "<tf.Tensor: shape=(128,), dtype=int32, numpy=\n",
       "array([  101, 10808,   118, 24571, 31156, 10633,   131, 12004, 72441,\n",
       "         123, 10298,  1725, 12240, 62932, 95797, 10107, 29606,   100,\n",
       "         100,   118,   160, 68999, 11090,   102,     0,     0,     0,\n",
       "           0,     0,     0,     0,     0,     0,     0,     0,     0,\n",
       "           0,     0,     0,     0,     0,     0,     0,     0,     0,\n",
       "           0,     0,     0,     0,     0,     0,     0,     0,     0,\n",
       "           0,     0,     0,     0,     0,     0,     0,     0,     0,\n",
       "           0,     0,     0,     0,     0,     0,     0,     0,     0,\n",
       "           0,     0,     0,     0,     0,     0,     0,     0,     0,\n",
       "           0,     0,     0,     0,     0,     0,     0,     0,     0,\n",
       "           0,     0,     0,     0,     0,     0,     0,     0,     0,\n",
       "           0,     0,     0,     0,     0,     0,     0,     0,     0,\n",
       "           0,     0,     0,     0,     0,     0,     0,     0,     0,\n",
       "           0,     0,     0,     0,     0,     0,     0,     0,     0,\n",
       "           0,     0], dtype=int32)>"
      ]
     },
     "metadata": {},
     "execution_count": 17
    }
   ],
   "metadata": {}
  },
  {
   "cell_type": "code",
   "execution_count": null,
   "source": [],
   "outputs": [],
   "metadata": {}
  }
 ],
 "metadata": {
  "interpreter": {
   "hash": "1706a1f9fafbe48da51d8a59bfe5d85cc51c707f0120bcd96cec0e9735d555a5"
  },
  "kernelspec": {
   "name": "python3",
   "display_name": "Python 3.8.10 64-bit ('master-thesis-local': conda)"
  },
  "language_info": {
   "codemirror_mode": {
    "name": "ipython",
    "version": 3
   },
   "file_extension": ".py",
   "mimetype": "text/x-python",
   "name": "python",
   "nbconvert_exporter": "python",
   "pygments_lexer": "ipython3",
   "version": "3.8.10"
  },
  "orig_nbformat": 4
 },
 "nbformat": 4,
 "nbformat_minor": 2
}