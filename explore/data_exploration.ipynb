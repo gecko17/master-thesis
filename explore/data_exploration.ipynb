{
 "cells": [
  {
   "cell_type": "code",
   "execution_count": 4,
   "metadata": {},
   "outputs": [],
   "source": [
    "import pandas as pd\n",
    "data = pd.read_csv('../data/export-articles-de-2021-09-08T14:45:27.515899+00:00')"
   ]
  },
  {
   "cell_type": "code",
   "execution_count": 5,
   "metadata": {},
   "outputs": [],
   "source": [
    "data = data.dropna(subset=['CONTENT'])"
   ]
  },
  {
   "cell_type": "code",
   "execution_count": 6,
   "metadata": {},
   "outputs": [
    {
     "data": {
      "text/plain": [
       "77381"
      ]
     },
     "execution_count": 6,
     "metadata": {},
     "output_type": "execute_result"
    }
   ],
   "source": [
    "len(data)"
   ]
  },
  {
   "cell_type": "code",
   "execution_count": 10,
   "metadata": {},
   "outputs": [
    {
     "name": "stderr",
     "output_type": "stream",
     "text": [
      "/Users/d059221/opt/anaconda3/envs/master-thesis-colab/lib/python3.7/site-packages/ipykernel_launcher.py:7: SettingWithCopyWarning: \n",
      "A value is trying to be set on a copy of a slice from a DataFrame.\n",
      "Try using .loc[row_indexer,col_indexer] = value instead\n",
      "\n",
      "See the caveats in the documentation: https://pandas.pydata.org/pandas-docs/stable/user_guide/indexing.html#returning-a-view-versus-a-copy\n",
      "  import sys\n",
      "/Users/d059221/opt/anaconda3/envs/master-thesis-colab/lib/python3.7/site-packages/ipykernel_launcher.py:10: SettingWithCopyWarning: \n",
      "A value is trying to be set on a copy of a slice from a DataFrame.\n",
      "Try using .loc[row_indexer,col_indexer] = value instead\n",
      "\n",
      "See the caveats in the documentation: https://pandas.pydata.org/pandas-docs/stable/user_guide/indexing.html#returning-a-view-versus-a-copy\n",
      "  # Remove the CWD from sys.path while we load stuff.\n"
     ]
    }
   ],
   "source": [
    "from transformers import BertTokenizer\n",
    "import nltk\n",
    "\n",
    "df1 = data.iloc[:15000]\n",
    "\n",
    "df1['sentences'] = df1['CONTENT'].apply(\n",
    "    lambda x: nltk.sent_tokenize(\n",
    "        x, language='german'))\n",
    "df1['sentences'] = df1['sentences'].apply(\n",
    "    lambda x: [\n",
    "        s for s in x if len(\n",
    "            s.split(' ')) > 4 and len(\n",
    "            s.split(' ')) < 32])\n",
    "\n",
    "#tokenizer = BertTokenizer.from_pretrained('bert-base-german-cased')\n",
    "#sent_cluster_set = SentenceClusterDataset(tokenizer=tokenizer, df=df)\n",
    "#doc_split_set = DocSplitDataset(tokenizer=tokenizer, df=df)"
   ]
  },
  {
   "cell_type": "code",
   "execution_count": 15,
   "metadata": {},
   "outputs": [
    {
     "data": {
      "text/plain": [
       "0      0     US-Präsident Joe Biden hat sich erneut gegen d...\n",
       "       1     „Ich bin seit Langem gegen Nord Stream 2“, sag...\n",
       "       2     Nach regierungsinternen Diskussionen sei das a...\n",
       "       3     Ein hochrangiger Regierungsvertreter sagte nac...\n",
       "       4     Einerseits wolle man die unter Bidens Vorgänge...\n",
       "                                   ...                        \n",
       "16094  22    Es geht auch und vor allem um den Mann, der si...\n",
       "       23    Der Bundestrainer muss nicht befürchten, dass ...\n",
       "       24    Die Gefahr, die ihm droht, ist banaler und rea...\n",
       "       25    Und die Drei-Spiele-Kampagne beginnt am Donner...\n",
       "       26    Nach dem 0:6 in Spanien weiß Löw sehr genau, d...\n",
       "Length: 406083, dtype: object"
      ]
     },
     "execution_count": 15,
     "metadata": {},
     "output_type": "execute_result"
    }
   ],
   "source": [
    "df1['sentences'].apply(pd.Series).stack()"
   ]
  },
  {
   "cell_type": "code",
   "execution_count": null,
   "metadata": {},
   "outputs": [],
   "source": [
    "df2 = data.iloc[:30000]\n",
    "\n",
    "df2['sentences'] = df2['CONTENT'].apply(\n",
    "    lambda x: nltk.sent_tokenize(\n",
    "        x, language='german'))\n",
    "df2['content_length'] = df2['CONTENT'].str.len()\n",
    "df2 = df2[df2['content_length'] > 256]\n",
    "\n",
    "df_splitted = pd.DataFrame()\n",
    "for row in df2[['sentences', 'content_length']].to_numpy():\n",
    "    n_splits, split_len = self.calc_n_splits(\n",
    "        row[1], self.desired_splits)\n",
    "    sentences: list = row[0]\n",
    "    splitted = list()\n",
    "    for i in range(n_splits):\n",
    "        sub_doc = ''\n",
    "        while len(sub_doc) < split_len:\n",
    "            if (len(sentences) > 0):\n",
    "                sub_doc += sentences.pop(0)\n",
    "            else:\n",
    "                break\n",
    "        if len(sub_doc) > 0:\n",
    "            splitted.append(sub_doc)\n",
    "    df_splitted = df_splitted.append(\n",
    "        {'split_doc': splitted}, ignore_index=True)"
   ]
  },
  {
   "cell_type": "code",
   "execution_count": 27,
   "metadata": {},
   "outputs": [],
   "source": [
    "train_data = data.iloc[0:20000]"
   ]
  },
  {
   "cell_type": "code",
   "execution_count": 28,
   "metadata": {},
   "outputs": [
    {
     "data": {
      "text/plain": [
       "(18903, 2)"
      ]
     },
     "execution_count": 28,
     "metadata": {},
     "output_type": "execute_result"
    }
   ],
   "source": [
    "train_data = train_data[['CONTENT', 'HEADLINE']].dropna()\n",
    "train_data.shape"
   ]
  },
  {
   "cell_type": "code",
   "execution_count": 17,
   "metadata": {},
   "outputs": [],
   "source": [
    "from datetime import datetime, timezone\n",
    "filename = 'train-data-content-headline-20000'\n",
    "train_data.to_csv('../data/'+filename)"
   ]
  },
  {
   "cell_type": "code",
   "execution_count": 29,
   "metadata": {},
   "outputs": [
    {
     "data": {
      "text/plain": [
       "(500, 2)"
      ]
     },
     "execution_count": 29,
     "metadata": {},
     "output_type": "execute_result"
    }
   ],
   "source": [
    "val_data = data.iloc[20001:20501]\n",
    "val_data = val_data[['CONTENT', 'HEADLINE']].dropna()\n",
    "val_data.shape"
   ]
  },
  {
   "cell_type": "code",
   "execution_count": 30,
   "metadata": {},
   "outputs": [],
   "source": [
    "filename = 'val-data-content-headline-20000'\n",
    "val_data.to_csv('../data/'+filename)"
   ]
  },
  {
   "cell_type": "code",
   "execution_count": 3,
   "metadata": {},
   "outputs": [
    {
     "data": {
      "text/html": [
       "<div>\n",
       "<style scoped>\n",
       "    .dataframe tbody tr th:only-of-type {\n",
       "        vertical-align: middle;\n",
       "    }\n",
       "\n",
       "    .dataframe tbody tr th {\n",
       "        vertical-align: top;\n",
       "    }\n",
       "\n",
       "    .dataframe thead th {\n",
       "        text-align: right;\n",
       "    }\n",
       "</style>\n",
       "<table border=\"1\" class=\"dataframe\">\n",
       "  <thead>\n",
       "    <tr style=\"text-align: right;\">\n",
       "      <th></th>\n",
       "      <th>Unnamed: 0</th>\n",
       "      <th>CONTENT</th>\n",
       "      <th>HEADLINE</th>\n",
       "      <th>SOURCE</th>\n",
       "      <th>PUBDATE</th>\n",
       "      <th>_FETCHTIME</th>\n",
       "      <th>LOCALE</th>\n",
       "    </tr>\n",
       "  </thead>\n",
       "  <tbody>\n",
       "    <tr>\n",
       "      <th>0</th>\n",
       "      <td>0</td>\n",
       "      <td>US-Präsident Joe Biden hat sich erneut gegen d...</td>\n",
       "      <td>US-Präsident Biden: Nord Stream 2 ist „kompliz...</td>\n",
       "      <td>Welt</td>\n",
       "      <td>2021-04-15 22:44:07</td>\n",
       "      <td>1618526736</td>\n",
       "      <td>de_DE</td>\n",
       "    </tr>\n",
       "    <tr>\n",
       "      <th>1</th>\n",
       "      <td>1</td>\n",
       "      <td>Die Grünen ziehen mit Annalena Baerbock als Ka...</td>\n",
       "      <td>Annalena Baerbock wird Kanzlerkandidatin der G...</td>\n",
       "      <td>Welt</td>\n",
       "      <td>2021-04-19 09:04:13</td>\n",
       "      <td>1618823447</td>\n",
       "      <td>de_DE</td>\n",
       "    </tr>\n",
       "    <tr>\n",
       "      <th>2</th>\n",
       "      <td>2</td>\n",
       "      <td>Mehr in Kürze</td>\n",
       "      <td>Gesundheitsminister: Spahn rechnet damit, dass...</td>\n",
       "      <td>Welt</td>\n",
       "      <td>2021-04-22 11:07:16</td>\n",
       "      <td>1619089901</td>\n",
       "      <td>de_DE</td>\n",
       "    </tr>\n",
       "    <tr>\n",
       "      <th>3</th>\n",
       "      <td>3</td>\n",
       "      <td>Die erste Auslandsreise von US-Präsident Joe B...</td>\n",
       "      <td>Joe Biden: Erste Auslandsreise als US-Präsiden...</td>\n",
       "      <td>Welt</td>\n",
       "      <td>2021-04-23 16:20:13</td>\n",
       "      <td>1619195361</td>\n",
       "      <td>de_DE</td>\n",
       "    </tr>\n",
       "    <tr>\n",
       "      <th>4</th>\n",
       "      <td>4</td>\n",
       "      <td>Die Bundesregierung bietet Griechenland die Üb...</td>\n",
       "      <td>Rückführungen: Deutschland bietet Griechenland...</td>\n",
       "      <td>Welt</td>\n",
       "      <td>2021-04-24 21:59:57</td>\n",
       "      <td>1619301713</td>\n",
       "      <td>de_DE</td>\n",
       "    </tr>\n",
       "  </tbody>\n",
       "</table>\n",
       "</div>"
      ],
      "text/plain": [
       "   Unnamed: 0                                            CONTENT  \\\n",
       "0           0  US-Präsident Joe Biden hat sich erneut gegen d...   \n",
       "1           1  Die Grünen ziehen mit Annalena Baerbock als Ka...   \n",
       "2           2                                      Mehr in Kürze   \n",
       "3           3  Die erste Auslandsreise von US-Präsident Joe B...   \n",
       "4           4  Die Bundesregierung bietet Griechenland die Üb...   \n",
       "\n",
       "                                            HEADLINE SOURCE  \\\n",
       "0  US-Präsident Biden: Nord Stream 2 ist „kompliz...   Welt   \n",
       "1  Annalena Baerbock wird Kanzlerkandidatin der G...   Welt   \n",
       "2  Gesundheitsminister: Spahn rechnet damit, dass...   Welt   \n",
       "3  Joe Biden: Erste Auslandsreise als US-Präsiden...   Welt   \n",
       "4  Rückführungen: Deutschland bietet Griechenland...   Welt   \n",
       "\n",
       "               PUBDATE  _FETCHTIME LOCALE  \n",
       "0  2021-04-15 22:44:07  1618526736  de_DE  \n",
       "1  2021-04-19 09:04:13  1618823447  de_DE  \n",
       "2  2021-04-22 11:07:16  1619089901  de_DE  \n",
       "3  2021-04-23 16:20:13  1619195361  de_DE  \n",
       "4  2021-04-24 21:59:57  1619301713  de_DE  "
      ]
     },
     "execution_count": 3,
     "metadata": {},
     "output_type": "execute_result"
    }
   ],
   "source": [
    "data.head(5)"
   ]
  },
  {
   "cell_type": "code",
   "execution_count": null,
   "metadata": {},
   "outputs": [],
   "source": []
  }
 ],
 "metadata": {
  "interpreter": {
   "hash": "7a7682ce583e0ee06ee5512b615ced18c46d05123774f7e0b0227cd9872e17b5"
  },
  "kernelspec": {
   "display_name": "Python 3.7.11 64-bit ('master-thesis-colab': conda)",
   "name": "python3"
  },
  "language_info": {
   "codemirror_mode": {
    "name": "ipython",
    "version": 3
   },
   "file_extension": ".py",
   "mimetype": "text/x-python",
   "name": "python",
   "nbconvert_exporter": "python",
   "pygments_lexer": "ipython3",
   "version": "3.7.11"
  },
  "orig_nbformat": 4
 },
 "nbformat": 4,
 "nbformat_minor": 2
}
