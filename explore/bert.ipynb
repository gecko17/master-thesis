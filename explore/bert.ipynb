{
 "cells": [
  {
   "cell_type": "code",
   "execution_count": 58,
   "metadata": {},
   "outputs": [],
   "source": [
    "import tensorflow as tf\n",
    "import tensorflow_hub as tf_hub\n",
    "import tensorflow_text as tf_text\n"
   ]
  },
  {
   "cell_type": "code",
   "execution_count": 75,
   "metadata": {},
   "outputs": [],
   "source": [
    "bert_preprocess_model = tf_hub.KerasLayer('https://tfhub.dev/tensorflow/bert_multi_cased_preprocess/3')\n",
    "bert_model = tf_hub.KerasLayer('https://tfhub.dev/tensorflow/bert_multi_cased_L-12_H-768_A-12/4')"
   ]
  },
  {
   "cell_type": "code",
   "execution_count": 76,
   "metadata": {},
   "outputs": [],
   "source": [
    "text_preprocessed = bert_preprocess_model(['Ich spiele gerne Fußball', 'Ich benutze einen Ball', 'Ich habe einen kleinen Fuß'])"
   ]
  },
  {
   "cell_type": "code",
   "execution_count": 77,
   "metadata": {},
   "outputs": [],
   "source": [
    "bert_result = bert_model(text_preprocessed)"
   ]
  },
  {
   "cell_type": "code",
   "execution_count": 91,
   "metadata": {},
   "outputs": [],
   "source": [
    "fußball = bert_result['sequence_output'][0][4].numpy()\n",
    "ball = bert_result['sequence_output'][1][4].numpy()\n",
    "fuß = bert_result['sequence_output'][2][5].numpy()\n",
    "fuß_ball = fuß + ball"
   ]
  },
  {
   "cell_type": "code",
   "execution_count": 89,
   "metadata": {},
   "outputs": [],
   "source": [
    "from sklearn.metrics.pairwise import cosine_similarity\n",
    "def get_cosine_similarity(feature_vec_1, feature_vec_2):    \n",
    "    return cosine_similarity(feature_vec_1.reshape(1, -1), feature_vec_2.reshape(1, -1))[0][0]"
   ]
  },
  {
   "cell_type": "code",
   "execution_count": 92,
   "metadata": {},
   "outputs": [
    {
     "name": "stdout",
     "output_type": "stream",
     "text": [
      "Fußball vs Fuß + Ball: 0.7689303755760193\n"
     ]
    }
   ],
   "source": [
    "print(f\"Fußball vs Fuß + Ball: {get_cosine_similarity(fußball, fuß_ball)}\")"
   ]
  },
  {
   "cell_type": "code",
   "execution_count": 97,
   "metadata": {},
   "outputs": [
    {
     "data": {
      "text/plain": [
       "True"
      ]
     },
     "execution_count": 97,
     "metadata": {},
     "output_type": "execute_result"
    }
   ],
   "source": [
    "np.array((bert_result['encoder_outputs'][11][0][4] == bert_result['sequence_output'][0][4])).all()"
   ]
  },
  {
   "cell_type": "code",
   "execution_count": 99,
   "metadata": {},
   "outputs": [
    {
     "data": {
      "text/plain": [
       "<tf.Tensor: shape=(3, 128, 768), dtype=float32, numpy=\n",
       "array([[[ 0.02124422, -0.38119078,  0.20153512, ...,  0.4139064 ,\n",
       "         -0.05366886, -0.16407016],\n",
       "        [-0.5140356 , -0.67021775,  0.74251723, ...,  0.5030295 ,\n",
       "         -0.89298743, -0.6312877 ],\n",
       "        [-0.6951892 , -0.9155433 , -0.1734905 , ...,  0.33933908,\n",
       "         -0.64451903, -0.33609447],\n",
       "        ...,\n",
       "        [-0.10354732, -0.651667  ,  0.2544272 , ...,  0.40712088,\n",
       "         -0.15884125, -0.2356403 ],\n",
       "        [-0.10299768, -0.6298422 ,  0.28019834, ...,  0.41424713,\n",
       "         -0.16245045, -0.2298213 ],\n",
       "        [-0.12310487, -0.62205136,  0.27672607, ...,  0.4177141 ,\n",
       "         -0.16339335, -0.22612317]],\n",
       "\n",
       "       [[ 0.16213751, -0.19991605,  0.1410801 , ...,  0.5889857 ,\n",
       "          0.03333968, -0.1043102 ],\n",
       "        [ 0.00416807, -0.40939927,  0.6365628 , ...,  1.0645046 ,\n",
       "         -0.43744445, -0.63765484],\n",
       "        [-0.24691951,  0.11253479, -0.36352718, ...,  0.9779862 ,\n",
       "          0.02531363, -0.49012154],\n",
       "        ...,\n",
       "        [ 0.33166444, -0.59297746,  0.16481727, ...,  0.9530096 ,\n",
       "         -0.05528372, -0.09153985],\n",
       "        [ 0.30929133, -0.58674   ,  0.2256941 , ...,  0.9624326 ,\n",
       "         -0.05020376, -0.0836407 ],\n",
       "        [ 0.2885004 , -0.60314876,  0.22589082, ...,  0.96788   ,\n",
       "         -0.05264904, -0.08979686]],\n",
       "\n",
       "       [[ 0.12301388, -0.14969358,  0.21206683, ...,  0.32343078,\n",
       "         -0.12295209,  0.06565902],\n",
       "        [-0.18579575, -0.21028596,  0.49207214, ...,  0.54864055,\n",
       "         -0.3325148 , -0.7206006 ],\n",
       "        [-0.9107569 ,  0.14979482,  0.14354812, ...,  0.54414856,\n",
       "         -0.55002713, -0.09334484],\n",
       "        ...,\n",
       "        [ 0.2222116 , -0.5126605 ,  0.3701192 , ...,  0.5694162 ,\n",
       "         -0.25353408,  0.03811225],\n",
       "        [ 0.20815997, -0.5180968 ,  0.36846635, ...,  0.5824131 ,\n",
       "         -0.25158414,  0.03161312],\n",
       "        [ 0.1841642 , -0.53326064,  0.3503357 , ...,  0.5803247 ,\n",
       "         -0.26915643,  0.03789151]]], dtype=float32)>"
      ]
     },
     "execution_count": 99,
     "metadata": {},
     "output_type": "execute_result"
    }
   ],
   "source": [
    "bert_result['sequence_output']"
   ]
  },
  {
   "cell_type": "code",
   "execution_count": null,
   "metadata": {},
   "outputs": [],
   "source": []
  }
 ],
 "metadata": {
  "interpreter": {
   "hash": "1706a1f9fafbe48da51d8a59bfe5d85cc51c707f0120bcd96cec0e9735d555a5"
  },
  "kernelspec": {
   "display_name": "Python 3.8.10 64-bit ('master-thesis-local': conda)",
   "name": "python3"
  },
  "language_info": {
   "codemirror_mode": {
    "name": "ipython",
    "version": 3
   },
   "file_extension": ".py",
   "mimetype": "text/x-python",
   "name": "python",
   "nbconvert_exporter": "python",
   "pygments_lexer": "ipython3",
   "version": "3.8.10"
  },
  "orig_nbformat": 4
 },
 "nbformat": 4,
 "nbformat_minor": 2
}